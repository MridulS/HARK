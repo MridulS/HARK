{
 "cells": [
  {
   "cell_type": "markdown",
   "metadata": {},
   "source": [
    "### Testing Hyperbolic Discounting"
   ]
  },
  {
   "cell_type": "markdown",
   "metadata": {},
   "source": [
    "I implement hyperbolic discounting by modyfing the `solveOneCycle` function in `core.py`. If a `geometric_solution` attribute is specified, the `solveOneCycle` function uses the solutions specified in this attribute list in its backward induction loop, instead of the current solution. The exponential discount factor is also resized by a factor of the `hyperbolic` discount variable. "
   ]
  },
  {
   "cell_type": "code",
   "execution_count": 9,
   "metadata": {},
   "outputs": [],
   "source": [
    "from __future__ import division\n",
    "import os\n",
    "os.chdir(\"/Users/gcarranza/repo/gcarranza-HARK\")\n",
    "\n",
    "import numpy as np\n",
    "from HARK.ConsumptionSaving import ConsumerParameters as Params\n",
    "from HARK.ConsumptionSaving.ConsIndShockModel import PerfForesightConsumerType\n",
    "from HARK.utilities import plotFuncsDer, plotFuncs\n",
    "\n",
    "from copy import copy, deepcopy\n",
    "import matplotlib.pyplot as plt\n",
    "import pandas as pd\n",
    "import statsmodels.formula.api as smf\n",
    "import warnings; warnings.simplefilter('ignore')"
   ]
  },
  {
   "cell_type": "markdown",
   "metadata": {},
   "source": [
    "We want to test if this implementation of HARK for hyperbolic agents is accurate. We check the results using a simple 3 period consumption model with Perfect Foresight, for which we have simple algebraic solutions we can use to corroborate our results. The consumption functions have a linear closed form expression, outlined in `quasi_hyperbolic_algebra.pdf`. The slope of the consumption functions are functions of $\\beta$ and $\\delta$ for both the exponential and hyperbolic cases. We solve first for the exponential case. "
   ]
  },
  {
   "cell_type": "markdown",
   "metadata": {},
   "source": [
    "#### Exponential Case"
   ]
  },
  {
   "cell_type": "code",
   "execution_count": 10,
   "metadata": {},
   "outputs": [],
   "source": [
    "PFexample = PerfForesightConsumerType(**Params.init_perfect_foresight)\n",
    "PFexample.CRRA = 1.0000000001 # Using a logarithmic utility function\n",
    "PFexample.cycles = 1 \n",
    "PFexample.T_cycle = 3\n",
    "PFexample.T_age = 3\n",
    "PFexample.Rfree = 1\n",
    "PFexample.PermGroFac = [1, 1, 1]\n",
    "PFexample.LivPrb = [1, 1, 1]\n",
    "PFexample.aNrmInitStd  = 0.0000000000000000000000000000000001"
   ]
  },
  {
   "cell_type": "code",
   "execution_count": 11,
   "metadata": {},
   "outputs": [
    {
     "ename": "AttributeError",
     "evalue": "'PerfForesightConsumerType' object has no attribute 'hyperbolic'",
     "output_type": "error",
     "traceback": [
      "\u001b[0;31m---------------------------------------------------------------------------\u001b[0m",
      "\u001b[0;31mAttributeError\u001b[0m                            Traceback (most recent call last)",
      "\u001b[0;32m<ipython-input-11-fa66eb7808e2>\u001b[0m in \u001b[0;36m<module>\u001b[0;34m()\u001b[0m\n\u001b[1;32m      1\u001b[0m \u001b[0mPFexample\u001b[0m\u001b[0;34m.\u001b[0m\u001b[0mDiscFac\u001b[0m \u001b[0;34m=\u001b[0m \u001b[0;36m0.9\u001b[0m\u001b[0;34m\u001b[0m\u001b[0m\n\u001b[0;32m----> 2\u001b[0;31m \u001b[0mPFexample\u001b[0m\u001b[0;34m.\u001b[0m\u001b[0msolve\u001b[0m\u001b[0;34m(\u001b[0m\u001b[0;34m)\u001b[0m\u001b[0;34m\u001b[0m\u001b[0m\n\u001b[0m\u001b[1;32m      3\u001b[0m \u001b[0mPFexample\u001b[0m\u001b[0;34m.\u001b[0m\u001b[0munpackcFunc\u001b[0m\u001b[0;34m(\u001b[0m\u001b[0;34m)\u001b[0m\u001b[0;34m\u001b[0m\u001b[0m\n\u001b[1;32m      4\u001b[0m \u001b[0;32mprint\u001b[0m\u001b[0;34m(\u001b[0m\u001b[0;34m\"Plot of Consumption Functions\"\u001b[0m\u001b[0;34m)\u001b[0m\u001b[0;34m\u001b[0m\u001b[0m\n\u001b[1;32m      5\u001b[0m \u001b[0;32mfor\u001b[0m \u001b[0mT\u001b[0m \u001b[0;32min\u001b[0m \u001b[0mrange\u001b[0m\u001b[0;34m(\u001b[0m\u001b[0;36m3\u001b[0m\u001b[0;34m)\u001b[0m\u001b[0;34m:\u001b[0m\u001b[0;34m\u001b[0m\u001b[0m\n",
      "\u001b[0;32m/Users/gcarranza/repo/gcarranza-HARK/HARK/core.py\u001b[0m in \u001b[0;36msolve\u001b[0;34m(self, verbose)\u001b[0m\n\u001b[1;32m    372\u001b[0m \u001b[0;34m\u001b[0m\u001b[0m\n\u001b[1;32m    373\u001b[0m         \u001b[0mself\u001b[0m\u001b[0;34m.\u001b[0m\u001b[0mpreSolve\u001b[0m\u001b[0;34m(\u001b[0m\u001b[0;34m)\u001b[0m \u001b[0;31m# Do pre-solution stuff\u001b[0m\u001b[0;34m\u001b[0m\u001b[0m\n\u001b[0;32m--> 374\u001b[0;31m         \u001b[0mself\u001b[0m\u001b[0;34m.\u001b[0m\u001b[0msolution\u001b[0m \u001b[0;34m=\u001b[0m \u001b[0msolveAgent\u001b[0m\u001b[0;34m(\u001b[0m\u001b[0mself\u001b[0m\u001b[0;34m,\u001b[0m\u001b[0mverbose\u001b[0m\u001b[0;34m)\u001b[0m \u001b[0;31m# Solve the model by backward induction\u001b[0m\u001b[0;34m\u001b[0m\u001b[0m\n\u001b[0m\u001b[1;32m    375\u001b[0m         \u001b[0;32mif\u001b[0m \u001b[0mself\u001b[0m\u001b[0;34m.\u001b[0m\u001b[0mtime_flow\u001b[0m\u001b[0;34m:\u001b[0m \u001b[0;31m# Put the solution in chronological order if this instance's time flow runs that way\u001b[0m\u001b[0;34m\u001b[0m\u001b[0m\n\u001b[1;32m    376\u001b[0m             \u001b[0mself\u001b[0m\u001b[0;34m.\u001b[0m\u001b[0msolution\u001b[0m\u001b[0;34m.\u001b[0m\u001b[0mreverse\u001b[0m\u001b[0;34m(\u001b[0m\u001b[0;34m)\u001b[0m\u001b[0;34m\u001b[0m\u001b[0m\n",
      "\u001b[0;32m/Users/gcarranza/repo/gcarranza-HARK/HARK/core.py\u001b[0m in \u001b[0;36msolveAgent\u001b[0;34m(agent, verbose)\u001b[0m\n\u001b[1;32m    753\u001b[0m     \u001b[0;32mwhile\u001b[0m \u001b[0mgo\u001b[0m\u001b[0;34m:\u001b[0m\u001b[0;34m\u001b[0m\u001b[0m\n\u001b[1;32m    754\u001b[0m         \u001b[0;31m# Solve a cycle of the model, recording it if horizon is finite\u001b[0m\u001b[0;34m\u001b[0m\u001b[0;34m\u001b[0m\u001b[0m\n\u001b[0;32m--> 755\u001b[0;31m         \u001b[0msolution_cycle\u001b[0m \u001b[0;34m=\u001b[0m \u001b[0msolveOneCycle\u001b[0m\u001b[0;34m(\u001b[0m\u001b[0magent\u001b[0m\u001b[0;34m,\u001b[0m\u001b[0msolution_last\u001b[0m\u001b[0;34m)\u001b[0m\u001b[0;34m\u001b[0m\u001b[0m\n\u001b[0m\u001b[1;32m    756\u001b[0m         \u001b[0;32mif\u001b[0m \u001b[0;32mnot\u001b[0m \u001b[0minfinite_horizon\u001b[0m\u001b[0;34m:\u001b[0m\u001b[0;34m\u001b[0m\u001b[0m\n\u001b[1;32m    757\u001b[0m             \u001b[0msolution\u001b[0m \u001b[0;34m+=\u001b[0m \u001b[0msolution_cycle\u001b[0m\u001b[0;34m\u001b[0m\u001b[0m\n",
      "\u001b[0;32m/Users/gcarranza/repo/gcarranza-HARK/HARK/core.py\u001b[0m in \u001b[0;36msolveOneCycle\u001b[0;34m(agent, solution_last)\u001b[0m\n\u001b[1;32m    838\u001b[0m     \u001b[0;32mfor\u001b[0m \u001b[0mname\u001b[0m \u001b[0;32min\u001b[0m \u001b[0magent\u001b[0m\u001b[0;34m.\u001b[0m\u001b[0mtime_vary\u001b[0m\u001b[0;34m:\u001b[0m\u001b[0;34m\u001b[0m\u001b[0m\n\u001b[1;32m    839\u001b[0m         \u001b[0mtime_vary_string\u001b[0m \u001b[0;34m+=\u001b[0m \u001b[0;34m' \\''\u001b[0m \u001b[0;34m+\u001b[0m \u001b[0mname\u001b[0m \u001b[0;34m+\u001b[0m \u001b[0;34m'\\' : None,'\u001b[0m\u001b[0;34m\u001b[0m\u001b[0m\n\u001b[0;32m--> 840\u001b[0;31m     \u001b[0msolve_dict\u001b[0m \u001b[0;34m=\u001b[0m \u001b[0meval\u001b[0m\u001b[0;34m(\u001b[0m\u001b[0;34m'{'\u001b[0m \u001b[0;34m+\u001b[0m \u001b[0mtime_inv_string\u001b[0m \u001b[0;34m+\u001b[0m \u001b[0mtime_vary_string\u001b[0m \u001b[0;34m+\u001b[0m \u001b[0;34m'}'\u001b[0m\u001b[0;34m)\u001b[0m\u001b[0;34m\u001b[0m\u001b[0m\n\u001b[0m\u001b[1;32m    841\u001b[0m \u001b[0;34m\u001b[0m\u001b[0m\n\u001b[1;32m    842\u001b[0m     \u001b[0;31m# Initialize the solution for this cycle, then iterate on periods\u001b[0m\u001b[0;34m\u001b[0m\u001b[0;34m\u001b[0m\u001b[0m\n",
      "\u001b[0;32m/Users/gcarranza/repo/gcarranza-HARK/HARK/core.py\u001b[0m in \u001b[0;36m<module>\u001b[0;34m()\u001b[0m\n",
      "\u001b[0;31mAttributeError\u001b[0m: 'PerfForesightConsumerType' object has no attribute 'hyperbolic'"
     ]
    }
   ],
   "source": [
    "PFexample.DiscFac = 0.9\n",
    "PFexample.solve()\n",
    "PFexample.unpackcFunc()\n",
    "print(\"Plot of Consumption Functions\")\n",
    "for T in range(3):\n",
    "    x = np.linspace(0,10, 1000,endpoint=True)\n",
    "    y = PFexample.cFunc[T+1](x)\n",
    "    plt.plot(x,y, label = T+1)\n",
    "plt.xlim([0, 10])\n",
    "plt.legend(title='Period')\n",
    "plt.show()"
   ]
  },
  {
   "cell_type": "markdown",
   "metadata": {},
   "source": [
    "According to `quasi_hyperbolic_algebra`:\n",
    "\n",
    "$$C_3=X_{3}$$\n",
    "\n",
    "$$C_{2}=\\frac{1}{1+\\delta}X_{2}+\\frac{1}{1+\\delta}$$\n",
    "\n",
    "$$C_{1}= \\frac{1}{1+\\delta+\\delta^2}X_{1}+\\frac{2}{1+\\delta^2+\\delta^3}$$\n",
    "\n",
    "Checking if the slopes match the polynomial expressions:"
   ]
  },
  {
   "cell_type": "code",
   "execution_count": 4,
   "metadata": {},
   "outputs": [
    {
     "name": "stdout",
     "output_type": "stream",
     "text": [
      "1.0\n",
      "0.5263157894710575\n",
      "0.36900369003328515\n"
     ]
    }
   ],
   "source": [
    "print(PFexample.cFunc[3].derivative(1))\n",
    "print(PFexample.cFunc[2].derivative(1))\n",
    "print(PFexample.cFunc[1].derivative(1))"
   ]
  },
  {
   "cell_type": "code",
   "execution_count": 5,
   "metadata": {},
   "outputs": [
    {
     "name": "stdout",
     "output_type": "stream",
     "text": [
      "1.0\n",
      "0.5263157894736842\n",
      "0.36900369003690037\n"
     ]
    }
   ],
   "source": [
    "print(1/np.polyval([1],0.9))\n",
    "print(1/np.polyval([1,1],0.9))\n",
    "print(1/np.polyval([1,1,1],0.9))"
   ]
  },
  {
   "cell_type": "markdown",
   "metadata": {},
   "source": [
    "They do."
   ]
  },
  {
   "cell_type": "markdown",
   "metadata": {},
   "source": [
    "#### Hyperbolic Case"
   ]
  },
  {
   "cell_type": "markdown",
   "metadata": {},
   "source": [
    "We set a `hyperbolic` factor of 0.7 and assign the previous generated consumption functions as `geometric_solution`."
   ]
  },
  {
   "cell_type": "code",
   "execution_count": 6,
   "metadata": {},
   "outputs": [
    {
     "name": "stdout",
     "output_type": "stream",
     "text": [
      "Plot of Consumption Functions\n"
     ]
    },
    {
     "data": {
      "image/png": "[encoded data removed]",
      "text/plain": [
       "<Figure size 432x288 with 1 Axes>"
      ]
     },
     "metadata": {
      "needs_background": "light"
     },
     "output_type": "display_data"
    }
   ],
   "source": [
    "geom_solution = deepcopy(PFexample.solution)\n",
    "PFexample_hyperbolic = deepcopy(PFexample)\n",
    "PFexample_hyperbolic.geometric_solution = geom_solution\n",
    "PFexample_hyperbolic.hyperbolic=0.7\n",
    "PFexample_hyperbolic.solve()\n",
    "PFexample_hyperbolic.unpackcFunc()\n",
    "print(\"Plot of Consumption Functions\")\n",
    "for T in range(3):\n",
    "    x = np.linspace(0,10, 1000,endpoint=True)\n",
    "    y = PFexample_hyperbolic.cFunc[T+1](x)\n",
    "    plt.plot(x,y, label = T+1)\n",
    "plt.xlim([0, 10])\n",
    "plt.legend(title='Period')\n",
    "plt.show()"
   ]
  },
  {
   "cell_type": "markdown",
   "metadata": {},
   "source": [
    "According to `quasi_hyperbolic_algebra`:\n",
    "\n",
    "$$C_3=X_{3}$$\n",
    "\n",
    "$$C_{2}=\\frac{1}{1+\\beta\\delta}X_{2}+\\frac{1}{1+\\beta\\delta}$$\n",
    "\n",
    "$$C_{1}= \\frac{1}{1+\\beta\\delta+\\beta\\delta^2}X_{1}+\\frac{2}{1+\\beta\\delta^2+\\beta\\delta^3}$$\n",
    "\n",
    "Checking if the slopes match the polynomial expressions:"
   ]
  },
  {
   "cell_type": "code",
   "execution_count": 7,
   "metadata": {},
   "outputs": [
    {
     "name": "stdout",
     "output_type": "stream",
     "text": [
      "1.0\n",
      "0.6134969325043818\n",
      "0.4551661356268127\n"
     ]
    }
   ],
   "source": [
    "print(PFexample_hyperbolic.cFunc[3].derivative(1))\n",
    "print(PFexample_hyperbolic.cFunc[2].derivative(1))\n",
    "print(PFexample_hyperbolic.cFunc[1].derivative(1))"
   ]
  },
  {
   "cell_type": "code",
   "execution_count": 8,
   "metadata": {},
   "outputs": [
    {
     "name": "stdout",
     "output_type": "stream",
     "text": [
      "1.0\n",
      "0.6134969325153374\n",
      "0.4551661356395084\n"
     ]
    }
   ],
   "source": [
    "print(1/np.polyval([1],0.9))\n",
    "print(1/np.polyval([0.7,1],0.9))\n",
    "print(1/np.polyval([0.7,0.7,1],0.9))"
   ]
  },
  {
   "cell_type": "markdown",
   "metadata": {},
   "source": [
    "The same slopes are found."
   ]
  }
 ],
 "metadata": {
  "kernelspec": {
   "display_name": "Python 2",
   "language": "python",
   "name": "python2"
  },
  "language_info": {
   "codemirror_mode": {
    "name": "ipython",
    "version": 2
   },
   "file_extension": ".py",
   "mimetype": "text/x-python",
   "name": "python",
   "nbconvert_exporter": "python",
   "pygments_lexer": "ipython2",
   "version": "2.7.15"
  }
 },
 "nbformat": 4,
 "nbformat_minor": 2
}
